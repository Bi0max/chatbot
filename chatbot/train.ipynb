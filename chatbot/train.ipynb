{
 "cells": [
  {
   "cell_type": "code",
   "execution_count": 3,
   "metadata": {},
   "outputs": [
    {
     "name": "stdout",
     "output_type": "stream",
     "text": [
      "The autoreload extension is already loaded. To reload it, use:\n",
      "  %reload_ext autoreload\n"
     ]
    }
   ],
   "source": [
    "%matplotlib nbagg\n",
    "%load_ext autoreload\n",
    "%autoreload 2\n",
    "import os\n",
    "import sys\n",
    "import pickle\n",
    "\n",
    "import nltk\n",
    "import numpy as np\n",
    "import matplotlib.pyplot as plt\n",
    "from sklearn.preprocessing import OneHotEncoder\n",
    "\n",
    "chatbot_path = \"/home/bi0max/projects/tutorials/chatbot\"\n",
    "if chatbot_path not in sys.path:\n",
    "    sys.path.append(chatbot_path)\n",
    "\n",
    "from chatbot.config import *\n",
    "from chatbot.embed_data import *\n",
    "from chatbot import embed_data\n",
    "from chatbot.train import *\n",
    "\n",
    "from keras.layers import Embedding, LSTM, Input, Dense\n",
    "from keras.models import Model, load_model\n",
    "from keras.callbacks import ModelCheckpoint\n",
    "from sklearn.model_selection import train_test_split"
   ]
  },
  {
   "cell_type": "code",
   "execution_count": null,
   "metadata": {},
   "outputs": [],
   "source": [
    "# read files with samples\n",
    "path = os.path.join(DATA_DIR, \"tokenized_from.pickle\")\n",
    "tokenized_from = pickle.load(open(path, \"rb\"))\n",
    "path = os.path.join(DATA_DIR, \"tokenized_to.pickle\")\n",
    "tokenized_to = pickle.load(open(path, \"rb\"))\n",
    "\n",
    "# read matrix, index\n",
    "embedding_matrix = pickle.load(open(PATHS[\"embedding_matrix\"], \"rb\"))\n",
    "word2index = pickle.load(open(PATHS[\"word2index\"], \"rb\"))"
   ]
  },
  {
   "cell_type": "code",
   "execution_count": 4,
   "metadata": {},
   "outputs": [],
   "source": [
    "model = load_model(PATHS['model'])"
   ]
  },
  {
   "cell_type": "code",
   "execution_count": 5,
   "metadata": {},
   "outputs": [
    {
     "name": "stdout",
     "output_type": "stream",
     "text": [
      "__________________________________________________________________________________________________\n",
      "Layer (type)                    Output Shape         Param #     Connected to                     \n",
      "==================================================================================================\n",
      "decoder_inputs (InputLayer)     (None, 50)           0                                            \n",
      "__________________________________________________________________________________________________\n",
      "encoder_inputs (InputLayer)     (None, 50)           0                                            \n",
      "__________________________________________________________________________________________________\n",
      "embedding_1 (Embedding)         (None, 50, 100)      1200400     encoder_inputs[0][0]             \n",
      "                                                                 decoder_inputs[0][0]             \n",
      "__________________________________________________________________________________________________\n",
      "encoder_lstm (LSTM)             [(None, 128), (None, 117248      embedding_1[0][0]                \n",
      "__________________________________________________________________________________________________\n",
      "decoder_lstm (LSTM)             [(None, 50, 128), (N 117248      embedding_1[1][0]                \n",
      "                                                                 encoder_lstm[0][1]               \n",
      "                                                                 encoder_lstm[0][2]               \n",
      "__________________________________________________________________________________________________\n",
      "decoder_dense (Dense)           (None, 50, 12004)    1548516     decoder_lstm[0][0]               \n",
      "==================================================================================================\n",
      "Total params: 2,983,412\n",
      "Trainable params: 2,983,412\n",
      "Non-trainable params: 0\n",
      "__________________________________________________________________________________________________\n"
     ]
    }
   ],
   "source": [
    "model.summary()"
   ]
  },
  {
   "cell_type": "code",
   "execution_count": null,
   "metadata": {},
   "outputs": [],
   "source": []
  }
 ],
 "metadata": {
  "kernelspec": {
   "display_name": "Python 3",
   "language": "python",
   "name": "python3"
  },
  "language_info": {
   "codemirror_mode": {
    "name": "ipython",
    "version": 3
   },
   "file_extension": ".py",
   "mimetype": "text/x-python",
   "name": "python",
   "nbconvert_exporter": "python",
   "pygments_lexer": "ipython3",
   "version": "3.6.5"
  }
 },
 "nbformat": 4,
 "nbformat_minor": 2
}
