{
 "cells": [
  {
   "cell_type": "code",
   "execution_count": null,
   "metadata": {},
   "outputs": [],
   "source": [
    "%matplotlib nbagg\n",
    "%load_ext autoreload\n",
    "%autoreload 2\n",
    "import os\n",
    "import sys\n",
    "import pickle\n",
    "\n",
    "import nltk\n",
    "import numpy as np\n",
    "import matplotlib.pyplot as plt\n",
    "from sklearn.preprocessing import OneHotEncoder\n",
    "\n",
    "chatbot_path = \"/home/bi0max/projects/tutorials/chatbot\"\n",
    "if chatbot_path not in sys.path:\n",
    "    sys.path.append(chatbot_path)\n",
    "\n",
    "from chatbot.config import *\n",
    "from chatbot.embed import *\n",
    "from chatbot import embed\n",
    "from chatbot.train import *\n",
    "\n",
    "from keras.layers import Embedding, LSTM, Input, Dense\n",
    "from keras.models import Model\n",
    "from keras.callbacks import ModelCheckpoint\n",
    "from sklearn.model_selection import train_test_split"
   ]
  },
  {
   "cell_type": "code",
   "execution_count": null,
   "metadata": {},
   "outputs": [],
   "source": [
    "# read files with samples\n",
    "path = os.path.join(DATA_DIR, \"tokenized_from.pickle\")\n",
    "tokenized_from = pickle.load(open(path, \"rb\"))\n",
    "path = os.path.join(DATA_DIR, \"tokenized_to.pickle\")\n",
    "tokenized_to = pickle.load(open(path, \"rb\"))\n",
    "\n",
    "# read matrix, index\n",
    "embedding_matrix = pickle.load(open(PATHS[\"embedding_matrix\"], \"rb\"))\n",
    "word2index = pickle.load(open(PATHS[\"word2index\"], \"rb\"))"
   ]
  },
  {
   "cell_type": "code",
   "execution_count": null,
   "metadata": {},
   "outputs": [],
   "source": []
  }
 ],
 "metadata": {
  "kernelspec": {
   "display_name": "Python 3",
   "language": "python",
   "name": "python3"
  },
  "language_info": {
   "codemirror_mode": {
    "name": "ipython",
    "version": 3
   },
   "file_extension": ".py",
   "mimetype": "text/x-python",
   "name": "python",
   "nbconvert_exporter": "python",
   "pygments_lexer": "ipython3",
   "version": "3.6.5"
  }
 },
 "nbformat": 4,
 "nbformat_minor": 2
}
